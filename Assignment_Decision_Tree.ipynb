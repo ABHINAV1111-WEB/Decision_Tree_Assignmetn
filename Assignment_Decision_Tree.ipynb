{
  "nbformat": 4,
  "nbformat_minor": 0,
  "metadata": {
    "colab": {
      "provenance": []
    },
    "kernelspec": {
      "name": "python3",
      "display_name": "Python 3"
    },
    "language_info": {
      "name": "python"
    }
  },
  "cells": [
    {
      "cell_type": "markdown",
      "source": [
        "**Theoretical**"
      ],
      "metadata": {
        "id": "NOwleEgN3pBQ"
      }
    },
    {
      "cell_type": "markdown",
      "source": [
        "**1. What is a Decision Tree, and how does it work?**\n",
        "\n",
        "Ans:\n",
        "A Decision Tree is a supervised machine learning algorithm that uses a tree-like model to classify data or make predictions. It works by recursively partitioning the data into smaller subsets based on the features of the input data.\n",
        "\n",
        "Here's a simplified breakdown:\n",
        "\n",
        "Root Node: The algorithm starts with a root node representing the entire dataset.\n",
        "\n",
        "Splitting: The algorithm selects the best feature to split the data into subsets based on a specific criterion (e.g., Gini impurity or entropy).\n",
        "\n",
        "Child Nodes: Each subset becomes a child node, and the process is repeated until a stopping criterion is met (e.g., all instances belong to the same class).\n",
        "\n",
        "Leaf Nodes: The final nodes represent the predicted class labels or target values.\n"
      ],
      "metadata": {
        "id": "91ZHxXHA3tYL"
      }
    },
    {
      "cell_type": "markdown",
      "source": [
        "**2.  What are impurity measures in Decision Trees?**\n",
        "\n",
        "Ans:\n",
        "Impurity measures in Decision Trees quantify the uncertainty or randomness in a node. Common impurity measures include:\n",
        "Gini Impurity: Measures the probability of misclassifying a randomly chosen instance from a node. Lower values indicate more purity.\n",
        "Entropy: Measures the amount of uncertainty or information in a node. Lower values indicate more purity.\n",
        "Variance: Used for regression tasks, it measures the spread of target values in a node."
      ],
      "metadata": {
        "id": "FStHdefB4ZcP"
      }
    },
    {
      "cell_type": "markdown",
      "source": [
        "**3. What is the mathematical formula for Gini Impurity?**\n",
        "\n",
        "Ans:\n",
        "The mathematical formula for Gini Impurity is:\n",
        "\n",
        "Gini Impurity = 1 - Σ (p_i)^2\n",
        "\n",
        "where:\n",
        "p_i is the proportion of instances belonging to class i in the node.\n",
        "The sum is taken over all classes (i) in the node."
      ],
      "metadata": {
        "id": "A-FgjSOF4zzL"
      }
    },
    {
      "cell_type": "markdown",
      "source": [
        "**4. What is the mathematical formula for Entropy?**\n",
        "\n",
        "Ans:\n",
        "The mathematical formula for Entropy is:\n",
        "Entropy = - Σ (p_i * log2(p_i))\n",
        "where:\n",
        "p_i is the proportion of instances belonging to class i in the node.\n",
        "The sum is taken over all classes (i) in the node.\n",
        "log2 is the logarithm to the base 2."
      ],
      "metadata": {
        "id": "t07el75B5yEc"
      }
    },
    {
      "cell_type": "markdown",
      "source": [
        "**5. What is Information Gain, and how is it used in Decision Trees?**\n",
        "\n",
        "Ans:\n",
        "Information Gain measures the reduction in impurity or uncertainty in a node after splitting on a feature. It's used in Decision Trees to determine the best feature to split on.\n",
        "Information Gain = Impurity (parent node) - Weighted Sum of Impurity (child nodes)\n",
        "The Decision Tree algorithm calculates the Information Gain for each feature and selects the feature with the highest gain to split the node. This process is repeated recursively to build the tree.\n",
        "Information Gain helps the algorithm to:\n",
        "Identify the most informative features\n",
        "Reduce impurity and increase purity in child nodes\n",
        "Create a more accurate and efficient tree"
      ],
      "metadata": {
        "id": "rop-hzPA5_Wp"
      }
    },
    {
      "cell_type": "markdown",
      "source": [
        "**6.  What is the difference between Gini Impurity and Entropy?**\n",
        "\n",
        "Ans:\n",
        "Gini Impurity and Entropy are both used to measure impurity in Decision Trees, but they differ in their calculation and interpretation:\n",
        "Gini Impurity:\n",
        "Measures the probability of misclassifying a randomly chosen instance\n",
        "Calculated as 1 - Σ (p_i)^2\n",
        "More sensitive to class distribution\n",
        "Entropy:\n",
        "Measures the amount of uncertainty or information\n",
        "Calculated as - Σ (p_i * log2(p_i))\n",
        "More sensitive to rare classes\n",
        "Both measures are used to evaluate splits, but they can lead to slightly different trees. Gini Impurity tends to favor larger partitions, while Entropy tends to favor more balanced splits."
      ],
      "metadata": {
        "id": "DtyEpYJ36KHd"
      }
    },
    {
      "cell_type": "markdown",
      "source": [
        "**7. What is the mathematical explanation behind Decision Trees?**\n",
        "\n",
        "Ans:\n",
        "Decision Trees are based on recursive partitioning, which can be mathematically represented as:\n",
        "Splitting criterion: The decision tree algorithm uses a splitting criterion, such as Gini Impurity or Entropy, to determine the best feature to split on.\n",
        "Recursive partitioning: The algorithm recursively partitions the data into smaller subsets based on the selected feature and splitting criterion.\n",
        "Node impurity: The impurity of a node is calculated using the chosen criterion (e.g., Gini Impurity or Entropy).\n",
        "Information Gain: The algorithm calculates the Information Gain for each feature and selects the feature with the highest gain to split the node."
      ],
      "metadata": {
        "id": "Zx9sLNY46waE"
      }
    },
    {
      "cell_type": "markdown",
      "source": [
        "**8. What is Pre-Pruning in Decision Trees?**\n",
        "\n",
        "Ans:\n",
        "Pre-Pruning, also known as Early Stopping, is a technique used in Decision Trees to prevent overfitting by stopping the tree growth before it perfectly fits the training data."
      ],
      "metadata": {
        "id": "HsgrSJzV69gB"
      }
    },
    {
      "cell_type": "markdown",
      "source": [
        "**9. What is Post-Pruning in Decision Trees?**\n",
        "\n",
        "Ans:\n",
        "Post-Pruning, also known as Pruning, is a technique used in Decision Trees to reduce overfitting by removing branches or nodes that do not contribute significantly to the model's accuracy."
      ],
      "metadata": {
        "id": "pwlpxf9i7Tug"
      }
    },
    {
      "cell_type": "markdown",
      "source": [
        "**10.  What is the difference between Pre-Pruning and Post-Pruning?**\n",
        "\n",
        "Ans:\n",
        "Pre-Pruning and Post-Pruning are two techniques used to prevent overfitting in Decision Trees. The key difference is:\n",
        "Pre-Pruning (Early Stopping):\n",
        "Stops growing the tree before it reaches its full depth\n",
        "Prevents the tree from capturing noise or irrelevant patterns\n",
        "Applied during the tree construction process\n",
        "Post-Pruning (Pruning):\n",
        "Grows the full tree and then removes unnecessary branches\n",
        "Removes nodes or branches that don't contribute to the model's accuracy\n",
        "Applied after the tree construction process\n",
        "Pre-Pruning is faster and more efficient, while Post-Pruning can be more effective in removing unnecessary complexity."
      ],
      "metadata": {
        "id": "8UQp8vN77hwq"
      }
    },
    {
      "cell_type": "markdown",
      "source": [
        "**11. What is a Decision Tree Regressor?**\n",
        "\n",
        "Ans:\n",
        "A Decision Tree Regressor is a type of Decision Tree algorithm used for regression tasks, where the target variable is continuous.\n",
        "Decision Tree Regressors work similarly to classification trees, but instead of predicting class labels, they predict continuous values."
      ],
      "metadata": {
        "id": "a6BnEn6m7xIH"
      }
    },
    {
      "cell_type": "markdown",
      "source": [
        "**12.  What are the advantages and disadvantages of Decision Trees?**\n",
        "\n",
        "Ans:\n",
        "Advantages of Decision Trees:\n",
        "Interpretability: Decision Trees are easy to understand and visualize, making them a great choice for feature selection and model interpretation.\n",
        "Handling non-linear relationships: Decision Trees can handle non-linear relationships between features and target variable.\n",
        "Handling categorical variables: Decision Trees can handle categorical variables directly.\n",
        "Fast training: Decision Trees are relatively fast to train compared to other models.\n",
        "Handling missing values: Decision Trees can handle missing values in the data.\n",
        "Disadvantages of Decision Trees:\n",
        "Overfitting: Decision Trees can easily overfit the training data, especially when the trees are deep or complex.\n",
        "Instability: Small changes in the data can lead to large changes in the tree structure.\n",
        "Greedy algorithm: Decision Trees use a greedy algorithm, which can lead to suboptimal solutions.\n",
        "Not suitable for complex relationships: Decision Trees can struggle to capture complex relationships between features.\n",
        "Sensitive to noise: Decision Trees can be sensitive to noisy or irrelevant features."
      ],
      "metadata": {
        "id": "jQ6GU50q8YD5"
      }
    },
    {
      "cell_type": "markdown",
      "source": [
        "**13. How does a Decision Tree handle missing values? **\n",
        "\n",
        "Ans:\n",
        "Decision Trees can handle missing values in several ways:\n",
        "Ignoring missing values: Some Decision Tree algorithms ignore missing values during the splitting process.\n",
        "Surrogate splitting: Some algorithms use surrogate splits, where the tree finds the next best feature to split on when a feature has missing values.\n",
        "Imputing missing values: Some algorithms impute missing values with mean, median, or mode before training.\n",
        "Separate branch for missing values: Some algorithms create a separate branch for instances with missing values."
      ],
      "metadata": {
        "id": "1Z2QpyOk8x2Z"
      }
    },
    {
      "cell_type": "markdown",
      "source": [
        "**14. How does a Decision Tree handle categorical features?**\n",
        "\n",
        "Ans:\n",
        "Decision Trees can handle categorical features in several ways:\n",
        "Nominal categories: Decision Trees can handle nominal categories (e.g., colors, labels) by treating each category as a separate value.\n",
        "One-hot encoding: Some Decision Tree implementations use one-hot encoding to convert categorical features into binary features.\n",
        "Label encoding: Some algorithms use label encoding, where categories are assigned numerical values."
      ],
      "metadata": {
        "id": "WnMqND9S9KM0"
      }
    },
    {
      "cell_type": "markdown",
      "source": [
        "**15. What are some real-world applications of Decision Trees?**\n",
        "\n",
        "Ans:\n",
        "Decision Trees have numerous real-world applications across various industries, including:\n",
        "\n",
        "Credit Risk Assessment: Decision Trees help banks and financial institutions assess creditworthiness and predict loan defaults.\n",
        "\n",
        "Medical Diagnosis: Decision Trees are used in medical diagnosis to identify diseases and predict patient outcomes.\n",
        "\n",
        "Customer Segmentation: Decision Trees help businesses segment customers based on demographics, behavior, and preferences.\n",
        "\n",
        "Marketing and Advertising: Decision Trees are used to predict customer responses to marketing campaigns and optimize advertising strategies.\n",
        "\n",
        "Fraud Detection: Decision Trees help detect fraudulent transactions and identify potential security threats.\n",
        "\n",
        "Product Recommendation: Decision Trees power product recommendation systems, suggesting products based on customer behavior and preferences.\n",
        "\n",
        "Business Process Optimization: Decision Trees help optimize business processes by identifying key factors that influence outcomes.\n",
        "\n",
        "Predictive Maintenance: Decision Trees predict equipment failures and maintenance needs in industries like manufacturing and energy."
      ],
      "metadata": {
        "id": "yidRdrGx9Y8A"
      }
    },
    {
      "cell_type": "markdown",
      "source": [
        "**PRACTICAL**"
      ],
      "metadata": {
        "id": "4uVJfpdLeVuu"
      }
    },
    {
      "cell_type": "markdown",
      "source": [
        "**16.  Write a Python program to train a Decision Tree Classifier on the Iris dataset and print the model accuracy.**"
      ],
      "metadata": {
        "id": "0OzGs_i5eaN3"
      }
    },
    {
      "cell_type": "code",
      "execution_count": 94,
      "metadata": {
        "id": "8RGMsTMweAk6",
        "colab": {
          "base_uri": "https://localhost:8080/"
        },
        "outputId": "98620da8-c3b3-43c8-b83c-7eb451a9bd9d"
      },
      "outputs": [
        {
          "output_type": "stream",
          "name": "stdout",
          "text": [
            "1.0\n",
            "              precision    recall  f1-score   support\n",
            "\n",
            "           0       1.00      1.00      1.00        10\n",
            "           1       1.00      1.00      1.00         9\n",
            "           2       1.00      1.00      1.00        11\n",
            "\n",
            "    accuracy                           1.00        30\n",
            "   macro avg       1.00      1.00      1.00        30\n",
            "weighted avg       1.00      1.00      1.00        30\n",
            "\n"
          ]
        }
      ],
      "source": [
        "import numpy as np\n",
        "import pandas as pd\n",
        "from sklearn.datasets import load_iris\n",
        "from sklearn.tree import DecisionTreeClassifier\n",
        "from sklearn.metrics import accuracy_score, classification_report\n",
        "\n",
        "dataset= load_iris()\n",
        "\n",
        "df= pd.DataFrame(dataset.data,columns= dataset.feature_names)\n",
        "\n",
        "x= df.iloc[:,:] # independent variable\n",
        "y= dataset.target # dependent variable\n",
        "\n",
        "from sklearn.model_selection import train_test_split\n",
        "x_train, x_test, y_train, y_test= train_test_split(x,y,test_size=0.2,random_state= 42)\n",
        "\n",
        "treeclassifier= DecisionTreeClassifier()\n",
        "treeclassifier.fit(x_train,y_train)\n",
        "\n",
        "y_pred= treeclassifier.predict(x_test)\n",
        "\n",
        "score= accuracy_score(y_pred,y_test)\n",
        "print(score)\n",
        "print(classification_report(y_pred,y_test))"
      ]
    },
    {
      "cell_type": "markdown",
      "source": [
        "**17. Write a Python program to train a Decision Tree Classifier using Gini Impurity as the criterion and print the feature importances.**"
      ],
      "metadata": {
        "id": "5DNNf89vngFh"
      }
    },
    {
      "cell_type": "code",
      "source": [
        "import numpy as np\n",
        "import pandas as pd\n",
        "from sklearn.datasets import load_iris\n",
        "from sklearn.tree import DecisionTreeClassifier\n",
        "from sklearn.metrics import accuracy_score, classification_report\n",
        "\n",
        "iris= load_iris()\n",
        "\n",
        "x= iris.data\n",
        "y= iris.target\n",
        "feature_names= iris.feature_names\n",
        "\n",
        "x_train,x_test,y_train,y_test= train_test_split(x,y,test_size=.2, random_state=42)\n",
        "\n",
        "clf= DecisionTreeClassifier(criterion='gini',random_state=42)\n",
        "clf.fit(x_train,y_train)\n",
        "\n",
        "feature_importances= clf.feature_importances_\n",
        "importance_df= pd.DataFrame({'feature':feature_names,'importance':feature_importances})\n",
        "importance_df= importance_df.sort_values(by='importance',ascending= False)\n",
        "print(feature_importances)\n",
        "print(importance_df)"
      ],
      "metadata": {
        "colab": {
          "base_uri": "https://localhost:8080/"
        },
        "id": "CU2iYT_8tQWI",
        "outputId": "a72e9ee8-d64e-45f1-ba18-296112242a10"
      },
      "execution_count": 95,
      "outputs": [
        {
          "output_type": "stream",
          "name": "stdout",
          "text": [
            "[0.         0.01667014 0.90614339 0.07718647]\n",
            "             feature  importance\n",
            "2  petal length (cm)    0.906143\n",
            "3   petal width (cm)    0.077186\n",
            "1   sepal width (cm)    0.016670\n",
            "0  sepal length (cm)    0.000000\n"
          ]
        }
      ]
    },
    {
      "cell_type": "markdown",
      "source": [
        "18. Write a Python program to train a Decision Tree Classifier using Entropy as the splitting criterion and print the\n",
        "model accuracy. **bold text**"
      ],
      "metadata": {
        "id": "hv5UAiZMW65E"
      }
    },
    {
      "cell_type": "code",
      "source": [
        "import numpy as np\n",
        "import pandas as pd\n",
        "from sklearn.datasets import load_iris\n",
        "from sklearn.tree import DecisionTreeClassifier\n",
        "from sklearn.metrics import accuracy_score, classification_report\n",
        "\n",
        "iris= load_iris()\n",
        "\n",
        "x= iris.data\n",
        "y= iris.target\n",
        "feature_names= iris.feature_names\n",
        "\n",
        "x_train,x_test,y_train,y_test= train_test_split(x,y,test_size=.2, random_state=42)\n",
        "\n",
        "clf= DecisionTreeClassifier(criterion='entropy',random_state=42)\n",
        "clf.fit(x_train,y_train)\n",
        "\n",
        "y_pred= clf.predict(x_test)\n",
        "accuracy= accuracy_score(y_test,y_pred)\n",
        "print(accuracy)"
      ],
      "metadata": {
        "colab": {
          "base_uri": "https://localhost:8080/"
        },
        "id": "Dyw0cT_4XA7e",
        "outputId": "08302741-929d-42b4-a77b-4118a3488713"
      },
      "execution_count": 96,
      "outputs": [
        {
          "output_type": "stream",
          "name": "stdout",
          "text": [
            "1.0\n"
          ]
        }
      ]
    },
    {
      "cell_type": "markdown",
      "source": [
        "19. Write a Python program to train a Decision Tree Regressor on a housing dataset and evaluate using Mean\n",
        "Squared Error (MSE)."
      ],
      "metadata": {
        "id": "-NoG-y8FYC0Q"
      }
    },
    {
      "cell_type": "code",
      "source": [
        "import numpy as np\n",
        "import pandas as pd\n",
        "from sklearn.datasets import fetch_california_housing\n",
        "from sklearn.tree import DecisionTreeRegressor\n",
        "from sklearn.metrics import mean_squared_error\n",
        "\n",
        "housing= fetch_california_housing()\n",
        "\n",
        "x= housing.data\n",
        "y= housing.target\n",
        "\n",
        "x_train,x_test,y_train,y_test= train_test_split(x,y,test_size=0.2,random_state=42)\n",
        "regressor= DecisionTreeRegressor()\n",
        "regressor.fit(x_train,y_train)\n",
        "\n",
        "y_pred= regressor.predict(x_test)\n",
        "y_pred\n",
        "\n",
        "mean= mean_squared_error(y_test,y_pred)\n",
        "print(mean)"
      ],
      "metadata": {
        "colab": {
          "base_uri": "https://localhost:8080/"
        },
        "id": "SNhbSlXKYxcQ",
        "outputId": "660aa168-da7c-46d2-909f-89cb778d3c07"
      },
      "execution_count": 97,
      "outputs": [
        {
          "output_type": "stream",
          "name": "stdout",
          "text": [
            "0.49377480043020827\n"
          ]
        }
      ]
    },
    {
      "cell_type": "markdown",
      "source": [
        "**20.  Write a Python program to train a Decision Tree Classifier and visualize the tree using graphviz.**"
      ],
      "metadata": {
        "id": "ML_hLh0ViUZs"
      }
    },
    {
      "cell_type": "code",
      "source": [
        "import numpy as np\n",
        "import pandas as pd\n",
        "from sklearn.datasets import load_iris\n",
        "from sklearn.tree import DecisionTreeClassifier\n",
        "from sklearn.metrics import accuracy_score, classification_report\n",
        "\n",
        "iris= load_iris()\n",
        "\n",
        "x= iris.data\n",
        "y= iris.target\n",
        "feature_names= iris.feature_names\n",
        "class_names= iris.target_names\n",
        "x_train,x_test,y_train,y_test= train_test_split(x,y,test_size=.2, random_state=42)\n",
        "\n",
        "clf= DecisionTreeClassifier(criterion='entropy',random_state=42)\n",
        "clf.fit(x_train,y_train)\n",
        "\n",
        "y_pred= clf.predict(x_test)\n",
        "\n",
        "\n",
        "from sklearn.tree import export_graphviz\n",
        "dot_data= export_graphviz(clf,filled= True,feature_names= feature_names,class_names= class_names)\n",
        "import graphviz\n",
        "graph=graphviz.Source(dot_data)\n",
        "graph"
      ],
      "metadata": {
        "colab": {
          "base_uri": "https://localhost:8080/",
          "height": 1000
        },
        "id": "isYSUXtpjQnG",
        "outputId": "f472bf12-6e0a-4666-efca-4ad6691ffc0d"
      },
      "execution_count": 98,
      "outputs": [
        {
          "output_type": "execute_result",
          "data": {
            "image/svg+xml": "<?xml version=\"1.0\" encoding=\"UTF-8\" standalone=\"no\"?>\n<!DOCTYPE svg PUBLIC \"-//W3C//DTD SVG 1.1//EN\"\n \"http://www.w3.org/Graphics/SVG/1.1/DTD/svg11.dtd\">\n<!-- Generated by graphviz version 2.43.0 (0)\n -->\n<!-- Title: Tree Pages: 1 -->\n<svg width=\"772pt\" height=\"790pt\"\n viewBox=\"0.00 0.00 772.00 790.00\" xmlns=\"http://www.w3.org/2000/svg\" xmlns:xlink=\"http://www.w3.org/1999/xlink\">\n<g id=\"graph0\" class=\"graph\" transform=\"scale(1 1) rotate(0) translate(4 786)\">\n<title>Tree</title>\n<polygon fill=\"white\" stroke=\"transparent\" points=\"-4,4 -4,-786 768,-786 768,4 -4,4\"/>\n<!-- 0 -->\n<g id=\"node1\" class=\"node\">\n<title>0</title>\n<polygon fill=\"#fdfffd\" stroke=\"black\" points=\"282.5,-782 114.5,-782 114.5,-699 282.5,-699 282.5,-782\"/>\n<text text-anchor=\"middle\" x=\"198.5\" y=\"-766.8\" font-family=\"Helvetica,sans-Serif\" font-size=\"14.00\">petal length (cm) &lt;= 2.45</text>\n<text text-anchor=\"middle\" x=\"198.5\" y=\"-751.8\" font-family=\"Helvetica,sans-Serif\" font-size=\"14.00\">entropy = 1.585</text>\n<text text-anchor=\"middle\" x=\"198.5\" y=\"-736.8\" font-family=\"Helvetica,sans-Serif\" font-size=\"14.00\">samples = 120</text>\n<text text-anchor=\"middle\" x=\"198.5\" y=\"-721.8\" font-family=\"Helvetica,sans-Serif\" font-size=\"14.00\">value = [40, 41, 39]</text>\n<text text-anchor=\"middle\" x=\"198.5\" y=\"-706.8\" font-family=\"Helvetica,sans-Serif\" font-size=\"14.00\">class = versicolor</text>\n</g>\n<!-- 1 -->\n<g id=\"node2\" class=\"node\">\n<title>1</title>\n<polygon fill=\"#e58139\" stroke=\"black\" points=\"177,-655.5 60,-655.5 60,-587.5 177,-587.5 177,-655.5\"/>\n<text text-anchor=\"middle\" x=\"118.5\" y=\"-640.3\" font-family=\"Helvetica,sans-Serif\" font-size=\"14.00\">entropy = 0.0</text>\n<text text-anchor=\"middle\" x=\"118.5\" y=\"-625.3\" font-family=\"Helvetica,sans-Serif\" font-size=\"14.00\">samples = 40</text>\n<text text-anchor=\"middle\" x=\"118.5\" y=\"-610.3\" font-family=\"Helvetica,sans-Serif\" font-size=\"14.00\">value = [40, 0, 0]</text>\n<text text-anchor=\"middle\" x=\"118.5\" y=\"-595.3\" font-family=\"Helvetica,sans-Serif\" font-size=\"14.00\">class = setosa</text>\n</g>\n<!-- 0&#45;&gt;1 -->\n<g id=\"edge1\" class=\"edge\">\n<title>0&#45;&gt;1</title>\n<path fill=\"none\" stroke=\"black\" d=\"M170.74,-698.91C163.05,-687.65 154.68,-675.42 146.95,-664.11\"/>\n<polygon fill=\"black\" stroke=\"black\" points=\"149.71,-661.95 141.18,-655.67 143.93,-665.9 149.71,-661.95\"/>\n<text text-anchor=\"middle\" x=\"136.56\" y=\"-676.54\" font-family=\"Helvetica,sans-Serif\" font-size=\"14.00\">True</text>\n</g>\n<!-- 2 -->\n<g id=\"node3\" class=\"node\">\n<title>2</title>\n<polygon fill=\"#f5fef9\" stroke=\"black\" points=\"363.5,-663 195.5,-663 195.5,-580 363.5,-580 363.5,-663\"/>\n<text text-anchor=\"middle\" x=\"279.5\" y=\"-647.8\" font-family=\"Helvetica,sans-Serif\" font-size=\"14.00\">petal length (cm) &lt;= 4.75</text>\n<text text-anchor=\"middle\" x=\"279.5\" y=\"-632.8\" font-family=\"Helvetica,sans-Serif\" font-size=\"14.00\">entropy = 1.0</text>\n<text text-anchor=\"middle\" x=\"279.5\" y=\"-617.8\" font-family=\"Helvetica,sans-Serif\" font-size=\"14.00\">samples = 80</text>\n<text text-anchor=\"middle\" x=\"279.5\" y=\"-602.8\" font-family=\"Helvetica,sans-Serif\" font-size=\"14.00\">value = [0, 41, 39]</text>\n<text text-anchor=\"middle\" x=\"279.5\" y=\"-587.8\" font-family=\"Helvetica,sans-Serif\" font-size=\"14.00\">class = versicolor</text>\n</g>\n<!-- 0&#45;&gt;2 -->\n<g id=\"edge2\" class=\"edge\">\n<title>0&#45;&gt;2</title>\n<path fill=\"none\" stroke=\"black\" d=\"M226.6,-698.91C232.76,-690.01 239.34,-680.51 245.69,-671.33\"/>\n<polygon fill=\"black\" stroke=\"black\" points=\"248.63,-673.24 251.45,-663.02 242.88,-669.25 248.63,-673.24\"/>\n<text text-anchor=\"middle\" x=\"255.92\" y=\"-683.92\" font-family=\"Helvetica,sans-Serif\" font-size=\"14.00\">False</text>\n</g>\n<!-- 3 -->\n<g id=\"node4\" class=\"node\">\n<title>3</title>\n<polygon fill=\"#3ee684\" stroke=\"black\" points=\"271,-544 108,-544 108,-461 271,-461 271,-544\"/>\n<text text-anchor=\"middle\" x=\"189.5\" y=\"-528.8\" font-family=\"Helvetica,sans-Serif\" font-size=\"14.00\">petal width (cm) &lt;= 1.65</text>\n<text text-anchor=\"middle\" x=\"189.5\" y=\"-513.8\" font-family=\"Helvetica,sans-Serif\" font-size=\"14.00\">entropy = 0.179</text>\n<text text-anchor=\"middle\" x=\"189.5\" y=\"-498.8\" font-family=\"Helvetica,sans-Serif\" font-size=\"14.00\">samples = 37</text>\n<text text-anchor=\"middle\" x=\"189.5\" y=\"-483.8\" font-family=\"Helvetica,sans-Serif\" font-size=\"14.00\">value = [0, 36, 1]</text>\n<text text-anchor=\"middle\" x=\"189.5\" y=\"-468.8\" font-family=\"Helvetica,sans-Serif\" font-size=\"14.00\">class = versicolor</text>\n</g>\n<!-- 2&#45;&gt;3 -->\n<g id=\"edge3\" class=\"edge\">\n<title>2&#45;&gt;3</title>\n<path fill=\"none\" stroke=\"black\" d=\"M248.27,-579.91C241.36,-570.92 233.97,-561.32 226.85,-552.05\"/>\n<polygon fill=\"black\" stroke=\"black\" points=\"229.54,-549.81 220.67,-544.02 223.99,-554.08 229.54,-549.81\"/>\n</g>\n<!-- 6 -->\n<g id=\"node7\" class=\"node\">\n<title>6</title>\n<polygon fill=\"#9253e8\" stroke=\"black\" points=\"452,-544 289,-544 289,-461 452,-461 452,-544\"/>\n<text text-anchor=\"middle\" x=\"370.5\" y=\"-528.8\" font-family=\"Helvetica,sans-Serif\" font-size=\"14.00\">petal width (cm) &lt;= 1.75</text>\n<text text-anchor=\"middle\" x=\"370.5\" y=\"-513.8\" font-family=\"Helvetica,sans-Serif\" font-size=\"14.00\">entropy = 0.519</text>\n<text text-anchor=\"middle\" x=\"370.5\" y=\"-498.8\" font-family=\"Helvetica,sans-Serif\" font-size=\"14.00\">samples = 43</text>\n<text text-anchor=\"middle\" x=\"370.5\" y=\"-483.8\" font-family=\"Helvetica,sans-Serif\" font-size=\"14.00\">value = [0, 5, 38]</text>\n<text text-anchor=\"middle\" x=\"370.5\" y=\"-468.8\" font-family=\"Helvetica,sans-Serif\" font-size=\"14.00\">class = virginica</text>\n</g>\n<!-- 2&#45;&gt;6 -->\n<g id=\"edge6\" class=\"edge\">\n<title>2&#45;&gt;6</title>\n<path fill=\"none\" stroke=\"black\" d=\"M311.07,-579.91C318.06,-570.92 325.53,-561.32 332.74,-552.05\"/>\n<polygon fill=\"black\" stroke=\"black\" points=\"335.61,-554.06 338.98,-544.02 330.08,-549.77 335.61,-554.06\"/>\n</g>\n<!-- 4 -->\n<g id=\"node5\" class=\"node\">\n<title>4</title>\n<polygon fill=\"#39e581\" stroke=\"black\" points=\"121,-417.5 0,-417.5 0,-349.5 121,-349.5 121,-417.5\"/>\n<text text-anchor=\"middle\" x=\"60.5\" y=\"-402.3\" font-family=\"Helvetica,sans-Serif\" font-size=\"14.00\">entropy = 0.0</text>\n<text text-anchor=\"middle\" x=\"60.5\" y=\"-387.3\" font-family=\"Helvetica,sans-Serif\" font-size=\"14.00\">samples = 36</text>\n<text text-anchor=\"middle\" x=\"60.5\" y=\"-372.3\" font-family=\"Helvetica,sans-Serif\" font-size=\"14.00\">value = [0, 36, 0]</text>\n<text text-anchor=\"middle\" x=\"60.5\" y=\"-357.3\" font-family=\"Helvetica,sans-Serif\" font-size=\"14.00\">class = versicolor</text>\n</g>\n<!-- 3&#45;&gt;4 -->\n<g id=\"edge4\" class=\"edge\">\n<title>3&#45;&gt;4</title>\n<path fill=\"none\" stroke=\"black\" d=\"M144.74,-460.91C131.73,-449.1 117.52,-436.22 104.55,-424.45\"/>\n<polygon fill=\"black\" stroke=\"black\" points=\"106.83,-421.79 97.07,-417.67 102.12,-426.98 106.83,-421.79\"/>\n</g>\n<!-- 5 -->\n<g id=\"node6\" class=\"node\">\n<title>5</title>\n<polygon fill=\"#8139e5\" stroke=\"black\" points=\"252,-417.5 139,-417.5 139,-349.5 252,-349.5 252,-417.5\"/>\n<text text-anchor=\"middle\" x=\"195.5\" y=\"-402.3\" font-family=\"Helvetica,sans-Serif\" font-size=\"14.00\">entropy = 0.0</text>\n<text text-anchor=\"middle\" x=\"195.5\" y=\"-387.3\" font-family=\"Helvetica,sans-Serif\" font-size=\"14.00\">samples = 1</text>\n<text text-anchor=\"middle\" x=\"195.5\" y=\"-372.3\" font-family=\"Helvetica,sans-Serif\" font-size=\"14.00\">value = [0, 0, 1]</text>\n<text text-anchor=\"middle\" x=\"195.5\" y=\"-357.3\" font-family=\"Helvetica,sans-Serif\" font-size=\"14.00\">class = virginica</text>\n</g>\n<!-- 3&#45;&gt;5 -->\n<g id=\"edge5\" class=\"edge\">\n<title>3&#45;&gt;5</title>\n<path fill=\"none\" stroke=\"black\" d=\"M191.58,-460.91C192.13,-450.2 192.72,-438.62 193.28,-427.78\"/>\n<polygon fill=\"black\" stroke=\"black\" points=\"196.78,-427.83 193.8,-417.67 189.79,-427.47 196.78,-427.83\"/>\n</g>\n<!-- 7 -->\n<g id=\"node8\" class=\"node\">\n<title>7</title>\n<polygon fill=\"#ffffff\" stroke=\"black\" points=\"449.5,-425 281.5,-425 281.5,-342 449.5,-342 449.5,-425\"/>\n<text text-anchor=\"middle\" x=\"365.5\" y=\"-409.8\" font-family=\"Helvetica,sans-Serif\" font-size=\"14.00\">petal length (cm) &lt;= 4.95</text>\n<text text-anchor=\"middle\" x=\"365.5\" y=\"-394.8\" font-family=\"Helvetica,sans-Serif\" font-size=\"14.00\">entropy = 1.0</text>\n<text text-anchor=\"middle\" x=\"365.5\" y=\"-379.8\" font-family=\"Helvetica,sans-Serif\" font-size=\"14.00\">samples = 8</text>\n<text text-anchor=\"middle\" x=\"365.5\" y=\"-364.8\" font-family=\"Helvetica,sans-Serif\" font-size=\"14.00\">value = [0, 4, 4]</text>\n<text text-anchor=\"middle\" x=\"365.5\" y=\"-349.8\" font-family=\"Helvetica,sans-Serif\" font-size=\"14.00\">class = versicolor</text>\n</g>\n<!-- 6&#45;&gt;7 -->\n<g id=\"edge7\" class=\"edge\">\n<title>6&#45;&gt;7</title>\n<path fill=\"none\" stroke=\"black\" d=\"M368.77,-460.91C368.41,-452.56 368.03,-443.67 367.66,-435.02\"/>\n<polygon fill=\"black\" stroke=\"black\" points=\"371.16,-434.86 367.23,-425.02 364.16,-435.16 371.16,-434.86\"/>\n</g>\n<!-- 14 -->\n<g id=\"node15\" class=\"node\">\n<title>14</title>\n<polygon fill=\"#853fe6\" stroke=\"black\" points=\"635.5,-425 467.5,-425 467.5,-342 635.5,-342 635.5,-425\"/>\n<text text-anchor=\"middle\" x=\"551.5\" y=\"-409.8\" font-family=\"Helvetica,sans-Serif\" font-size=\"14.00\">petal length (cm) &lt;= 4.85</text>\n<text text-anchor=\"middle\" x=\"551.5\" y=\"-394.8\" font-family=\"Helvetica,sans-Serif\" font-size=\"14.00\">entropy = 0.187</text>\n<text text-anchor=\"middle\" x=\"551.5\" y=\"-379.8\" font-family=\"Helvetica,sans-Serif\" font-size=\"14.00\">samples = 35</text>\n<text text-anchor=\"middle\" x=\"551.5\" y=\"-364.8\" font-family=\"Helvetica,sans-Serif\" font-size=\"14.00\">value = [0, 1, 34]</text>\n<text text-anchor=\"middle\" x=\"551.5\" y=\"-349.8\" font-family=\"Helvetica,sans-Serif\" font-size=\"14.00\">class = virginica</text>\n</g>\n<!-- 6&#45;&gt;14 -->\n<g id=\"edge14\" class=\"edge\">\n<title>6&#45;&gt;14</title>\n<path fill=\"none\" stroke=\"black\" d=\"M433.3,-460.91C448.46,-451.11 464.77,-440.56 480.29,-430.53\"/>\n<polygon fill=\"black\" stroke=\"black\" points=\"482.32,-433.39 488.81,-425.02 478.52,-427.51 482.32,-433.39\"/>\n</g>\n<!-- 8 -->\n<g id=\"node9\" class=\"node\">\n<title>8</title>\n<polygon fill=\"#39e581\" stroke=\"black\" points=\"269,-298.5 148,-298.5 148,-230.5 269,-230.5 269,-298.5\"/>\n<text text-anchor=\"middle\" x=\"208.5\" y=\"-283.3\" font-family=\"Helvetica,sans-Serif\" font-size=\"14.00\">entropy = 0.0</text>\n<text text-anchor=\"middle\" x=\"208.5\" y=\"-268.3\" font-family=\"Helvetica,sans-Serif\" font-size=\"14.00\">samples = 2</text>\n<text text-anchor=\"middle\" x=\"208.5\" y=\"-253.3\" font-family=\"Helvetica,sans-Serif\" font-size=\"14.00\">value = [0, 2, 0]</text>\n<text text-anchor=\"middle\" x=\"208.5\" y=\"-238.3\" font-family=\"Helvetica,sans-Serif\" font-size=\"14.00\">class = versicolor</text>\n</g>\n<!-- 7&#45;&gt;8 -->\n<g id=\"edge8\" class=\"edge\">\n<title>7&#45;&gt;8</title>\n<path fill=\"none\" stroke=\"black\" d=\"M311.03,-341.91C294.89,-329.88 277.25,-316.73 261.22,-304.79\"/>\n<polygon fill=\"black\" stroke=\"black\" points=\"263.12,-301.84 253.01,-298.67 258.93,-307.45 263.12,-301.84\"/>\n</g>\n<!-- 9 -->\n<g id=\"node10\" class=\"node\">\n<title>9</title>\n<polygon fill=\"#c09cf2\" stroke=\"black\" points=\"450,-306 287,-306 287,-223 450,-223 450,-306\"/>\n<text text-anchor=\"middle\" x=\"368.5\" y=\"-290.8\" font-family=\"Helvetica,sans-Serif\" font-size=\"14.00\">petal width (cm) &lt;= 1.55</text>\n<text text-anchor=\"middle\" x=\"368.5\" y=\"-275.8\" font-family=\"Helvetica,sans-Serif\" font-size=\"14.00\">entropy = 0.918</text>\n<text text-anchor=\"middle\" x=\"368.5\" y=\"-260.8\" font-family=\"Helvetica,sans-Serif\" font-size=\"14.00\">samples = 6</text>\n<text text-anchor=\"middle\" x=\"368.5\" y=\"-245.8\" font-family=\"Helvetica,sans-Serif\" font-size=\"14.00\">value = [0, 2, 4]</text>\n<text text-anchor=\"middle\" x=\"368.5\" y=\"-230.8\" font-family=\"Helvetica,sans-Serif\" font-size=\"14.00\">class = virginica</text>\n</g>\n<!-- 7&#45;&gt;9 -->\n<g id=\"edge9\" class=\"edge\">\n<title>7&#45;&gt;9</title>\n<path fill=\"none\" stroke=\"black\" d=\"M366.54,-341.91C366.75,-333.56 366.98,-324.67 367.2,-316.02\"/>\n<polygon fill=\"black\" stroke=\"black\" points=\"370.7,-316.11 367.46,-306.02 363.71,-315.93 370.7,-316.11\"/>\n</g>\n<!-- 10 -->\n<g id=\"node11\" class=\"node\">\n<title>10</title>\n<polygon fill=\"#8139e5\" stroke=\"black\" points=\"271,-179.5 158,-179.5 158,-111.5 271,-111.5 271,-179.5\"/>\n<text text-anchor=\"middle\" x=\"214.5\" y=\"-164.3\" font-family=\"Helvetica,sans-Serif\" font-size=\"14.00\">entropy = 0.0</text>\n<text text-anchor=\"middle\" x=\"214.5\" y=\"-149.3\" font-family=\"Helvetica,sans-Serif\" font-size=\"14.00\">samples = 3</text>\n<text text-anchor=\"middle\" x=\"214.5\" y=\"-134.3\" font-family=\"Helvetica,sans-Serif\" font-size=\"14.00\">value = [0, 0, 3]</text>\n<text text-anchor=\"middle\" x=\"214.5\" y=\"-119.3\" font-family=\"Helvetica,sans-Serif\" font-size=\"14.00\">class = virginica</text>\n</g>\n<!-- 9&#45;&gt;10 -->\n<g id=\"edge10\" class=\"edge\">\n<title>9&#45;&gt;10</title>\n<path fill=\"none\" stroke=\"black\" d=\"M315.07,-222.91C299.24,-210.88 281.94,-197.73 266.22,-185.79\"/>\n<polygon fill=\"black\" stroke=\"black\" points=\"268.24,-182.93 258.16,-179.67 264,-188.5 268.24,-182.93\"/>\n</g>\n<!-- 11 -->\n<g id=\"node12\" class=\"node\">\n<title>11</title>\n<polygon fill=\"#9cf2c0\" stroke=\"black\" points=\"457.5,-187 289.5,-187 289.5,-104 457.5,-104 457.5,-187\"/>\n<text text-anchor=\"middle\" x=\"373.5\" y=\"-171.8\" font-family=\"Helvetica,sans-Serif\" font-size=\"14.00\">petal length (cm) &lt;= 5.45</text>\n<text text-anchor=\"middle\" x=\"373.5\" y=\"-156.8\" font-family=\"Helvetica,sans-Serif\" font-size=\"14.00\">entropy = 0.918</text>\n<text text-anchor=\"middle\" x=\"373.5\" y=\"-141.8\" font-family=\"Helvetica,sans-Serif\" font-size=\"14.00\">samples = 3</text>\n<text text-anchor=\"middle\" x=\"373.5\" y=\"-126.8\" font-family=\"Helvetica,sans-Serif\" font-size=\"14.00\">value = [0, 2, 1]</text>\n<text text-anchor=\"middle\" x=\"373.5\" y=\"-111.8\" font-family=\"Helvetica,sans-Serif\" font-size=\"14.00\">class = versicolor</text>\n</g>\n<!-- 9&#45;&gt;11 -->\n<g id=\"edge11\" class=\"edge\">\n<title>9&#45;&gt;11</title>\n<path fill=\"none\" stroke=\"black\" d=\"M370.23,-222.91C370.59,-214.56 370.97,-205.67 371.34,-197.02\"/>\n<polygon fill=\"black\" stroke=\"black\" points=\"374.84,-197.16 371.77,-187.02 367.84,-196.86 374.84,-197.16\"/>\n</g>\n<!-- 12 -->\n<g id=\"node13\" class=\"node\">\n<title>12</title>\n<polygon fill=\"#39e581\" stroke=\"black\" points=\"367,-68 246,-68 246,0 367,0 367,-68\"/>\n<text text-anchor=\"middle\" x=\"306.5\" y=\"-52.8\" font-family=\"Helvetica,sans-Serif\" font-size=\"14.00\">entropy = 0.0</text>\n<text text-anchor=\"middle\" x=\"306.5\" y=\"-37.8\" font-family=\"Helvetica,sans-Serif\" font-size=\"14.00\">samples = 2</text>\n<text text-anchor=\"middle\" x=\"306.5\" y=\"-22.8\" font-family=\"Helvetica,sans-Serif\" font-size=\"14.00\">value = [0, 2, 0]</text>\n<text text-anchor=\"middle\" x=\"306.5\" y=\"-7.8\" font-family=\"Helvetica,sans-Serif\" font-size=\"14.00\">class = versicolor</text>\n</g>\n<!-- 11&#45;&gt;12 -->\n<g id=\"edge12\" class=\"edge\">\n<title>11&#45;&gt;12</title>\n<path fill=\"none\" stroke=\"black\" d=\"M348.55,-103.73C343.19,-94.97 337.52,-85.7 332.14,-76.91\"/>\n<polygon fill=\"black\" stroke=\"black\" points=\"335.08,-75 326.88,-68.3 329.11,-78.66 335.08,-75\"/>\n</g>\n<!-- 13 -->\n<g id=\"node14\" class=\"node\">\n<title>13</title>\n<polygon fill=\"#8139e5\" stroke=\"black\" points=\"498,-68 385,-68 385,0 498,0 498,-68\"/>\n<text text-anchor=\"middle\" x=\"441.5\" y=\"-52.8\" font-family=\"Helvetica,sans-Serif\" font-size=\"14.00\">entropy = 0.0</text>\n<text text-anchor=\"middle\" x=\"441.5\" y=\"-37.8\" font-family=\"Helvetica,sans-Serif\" font-size=\"14.00\">samples = 1</text>\n<text text-anchor=\"middle\" x=\"441.5\" y=\"-22.8\" font-family=\"Helvetica,sans-Serif\" font-size=\"14.00\">value = [0, 0, 1]</text>\n<text text-anchor=\"middle\" x=\"441.5\" y=\"-7.8\" font-family=\"Helvetica,sans-Serif\" font-size=\"14.00\">class = virginica</text>\n</g>\n<!-- 11&#45;&gt;13 -->\n<g id=\"edge13\" class=\"edge\">\n<title>11&#45;&gt;13</title>\n<path fill=\"none\" stroke=\"black\" d=\"M398.82,-103.73C404.26,-94.97 410.01,-85.7 415.48,-76.91\"/>\n<polygon fill=\"black\" stroke=\"black\" points=\"418.52,-78.64 420.82,-68.3 412.57,-74.95 418.52,-78.64\"/>\n</g>\n<!-- 15 -->\n<g id=\"node16\" class=\"node\">\n<title>15</title>\n<polygon fill=\"#c09cf2\" stroke=\"black\" points=\"628.5,-306 470.5,-306 470.5,-223 628.5,-223 628.5,-306\"/>\n<text text-anchor=\"middle\" x=\"549.5\" y=\"-290.8\" font-family=\"Helvetica,sans-Serif\" font-size=\"14.00\">sepal width (cm) &lt;= 3.1</text>\n<text text-anchor=\"middle\" x=\"549.5\" y=\"-275.8\" font-family=\"Helvetica,sans-Serif\" font-size=\"14.00\">entropy = 0.918</text>\n<text text-anchor=\"middle\" x=\"549.5\" y=\"-260.8\" font-family=\"Helvetica,sans-Serif\" font-size=\"14.00\">samples = 3</text>\n<text text-anchor=\"middle\" x=\"549.5\" y=\"-245.8\" font-family=\"Helvetica,sans-Serif\" font-size=\"14.00\">value = [0, 1, 2]</text>\n<text text-anchor=\"middle\" x=\"549.5\" y=\"-230.8\" font-family=\"Helvetica,sans-Serif\" font-size=\"14.00\">class = virginica</text>\n</g>\n<!-- 14&#45;&gt;15 -->\n<g id=\"edge15\" class=\"edge\">\n<title>14&#45;&gt;15</title>\n<path fill=\"none\" stroke=\"black\" d=\"M550.81,-341.91C550.66,-333.56 550.51,-324.67 550.36,-316.02\"/>\n<polygon fill=\"black\" stroke=\"black\" points=\"553.86,-315.96 550.19,-306.02 546.86,-316.08 553.86,-315.96\"/>\n</g>\n<!-- 18 -->\n<g id=\"node19\" class=\"node\">\n<title>18</title>\n<polygon fill=\"#8139e5\" stroke=\"black\" points=\"764,-298.5 647,-298.5 647,-230.5 764,-230.5 764,-298.5\"/>\n<text text-anchor=\"middle\" x=\"705.5\" y=\"-283.3\" font-family=\"Helvetica,sans-Serif\" font-size=\"14.00\">entropy = 0.0</text>\n<text text-anchor=\"middle\" x=\"705.5\" y=\"-268.3\" font-family=\"Helvetica,sans-Serif\" font-size=\"14.00\">samples = 32</text>\n<text text-anchor=\"middle\" x=\"705.5\" y=\"-253.3\" font-family=\"Helvetica,sans-Serif\" font-size=\"14.00\">value = [0, 0, 32]</text>\n<text text-anchor=\"middle\" x=\"705.5\" y=\"-238.3\" font-family=\"Helvetica,sans-Serif\" font-size=\"14.00\">class = virginica</text>\n</g>\n<!-- 14&#45;&gt;18 -->\n<g id=\"edge18\" class=\"edge\">\n<title>14&#45;&gt;18</title>\n<path fill=\"none\" stroke=\"black\" d=\"M604.93,-341.91C620.76,-329.88 638.06,-316.73 653.78,-304.79\"/>\n<polygon fill=\"black\" stroke=\"black\" points=\"656,-307.5 661.84,-298.67 651.76,-301.93 656,-307.5\"/>\n</g>\n<!-- 16 -->\n<g id=\"node17\" class=\"node\">\n<title>16</title>\n<polygon fill=\"#8139e5\" stroke=\"black\" points=\"602,-179.5 489,-179.5 489,-111.5 602,-111.5 602,-179.5\"/>\n<text text-anchor=\"middle\" x=\"545.5\" y=\"-164.3\" font-family=\"Helvetica,sans-Serif\" font-size=\"14.00\">entropy = 0.0</text>\n<text text-anchor=\"middle\" x=\"545.5\" y=\"-149.3\" font-family=\"Helvetica,sans-Serif\" font-size=\"14.00\">samples = 2</text>\n<text text-anchor=\"middle\" x=\"545.5\" y=\"-134.3\" font-family=\"Helvetica,sans-Serif\" font-size=\"14.00\">value = [0, 0, 2]</text>\n<text text-anchor=\"middle\" x=\"545.5\" y=\"-119.3\" font-family=\"Helvetica,sans-Serif\" font-size=\"14.00\">class = virginica</text>\n</g>\n<!-- 15&#45;&gt;16 -->\n<g id=\"edge16\" class=\"edge\">\n<title>15&#45;&gt;16</title>\n<path fill=\"none\" stroke=\"black\" d=\"M548.11,-222.91C547.75,-212.2 547.35,-200.62 546.98,-189.78\"/>\n<polygon fill=\"black\" stroke=\"black\" points=\"550.47,-189.54 546.63,-179.67 543.48,-189.78 550.47,-189.54\"/>\n</g>\n<!-- 17 -->\n<g id=\"node18\" class=\"node\">\n<title>17</title>\n<polygon fill=\"#39e581\" stroke=\"black\" points=\"741,-179.5 620,-179.5 620,-111.5 741,-111.5 741,-179.5\"/>\n<text text-anchor=\"middle\" x=\"680.5\" y=\"-164.3\" font-family=\"Helvetica,sans-Serif\" font-size=\"14.00\">entropy = 0.0</text>\n<text text-anchor=\"middle\" x=\"680.5\" y=\"-149.3\" font-family=\"Helvetica,sans-Serif\" font-size=\"14.00\">samples = 1</text>\n<text text-anchor=\"middle\" x=\"680.5\" y=\"-134.3\" font-family=\"Helvetica,sans-Serif\" font-size=\"14.00\">value = [0, 1, 0]</text>\n<text text-anchor=\"middle\" x=\"680.5\" y=\"-119.3\" font-family=\"Helvetica,sans-Serif\" font-size=\"14.00\">class = versicolor</text>\n</g>\n<!-- 15&#45;&gt;17 -->\n<g id=\"edge17\" class=\"edge\">\n<title>15&#45;&gt;17</title>\n<path fill=\"none\" stroke=\"black\" d=\"M594.95,-222.91C608.17,-211.1 622.6,-198.22 635.77,-186.45\"/>\n<polygon fill=\"black\" stroke=\"black\" points=\"638.24,-188.94 643.36,-179.67 633.57,-183.72 638.24,-188.94\"/>\n</g>\n</g>\n</svg>\n",
            "text/plain": [
              "<graphviz.sources.Source at 0x79d60e0fbc90>"
            ]
          },
          "metadata": {},
          "execution_count": 98
        }
      ]
    },
    {
      "cell_type": "markdown",
      "source": [
        "**21. Write a Python program to train a Decision Tree Classifier with a maximum depth of 3 and compare its accuracy with a fully grown tree.**"
      ],
      "metadata": {
        "id": "7Ujn-ok5ncIf"
      }
    },
    {
      "cell_type": "code",
      "source": [
        "import numpy as np\n",
        "import pandas as pd\n",
        "from sklearn.datasets import load_iris\n",
        "from sklearn.tree import DecisionTreeClassifier\n",
        "from sklearn.metrics import accuracy_score, classification_report\n",
        "\n",
        "iris= load_iris()\n",
        "\n",
        "x= iris.data\n",
        "y= iris.target\n",
        "feature_names= iris.feature_names\n",
        "class_names= iris.target_names\n",
        "x_train,x_test,y_train,y_test= train_test_split(x,y,test_size=.2, random_state=42)\n",
        "\n",
        "clf= DecisionTreeClassifier(criterion='gini',random_state=42)\n",
        "clf.fit(x_train,y_train)\n",
        "y_pred= clf.predict(x_test)\n",
        "accuracy_normal= accuracy_score(y_pred, y_test)\n",
        "\n",
        "# spliting upto depth 3\n",
        "clf_d3= DecisionTreeClassifier(criterion='gini',random_state=42, max_depth=3)\n",
        "clf_d3.fit(x_train,y_train)\n",
        "y_pred_d3= clf_d3.predict(x_test)\n",
        "accuracy_d3= accuracy_score(y_pred_d3,y_test)\n",
        "\n",
        "print(f'accuracy(fully grown tree): {accuracy_normal:.2f}')\n",
        "print(f'accuracy(depth equal to 3): {accuracy_d3:.2f}')"
      ],
      "metadata": {
        "colab": {
          "base_uri": "https://localhost:8080/"
        },
        "id": "Zvvku04vm_WM",
        "outputId": "1e5c9b1b-c06e-4632-e389-1d2b107b5dfa"
      },
      "execution_count": 99,
      "outputs": [
        {
          "output_type": "stream",
          "name": "stdout",
          "text": [
            "accuracy(fully grown tree): 1.00\n",
            "accuracy(depth equal to 3): 1.00\n"
          ]
        }
      ]
    },
    {
      "cell_type": "markdown",
      "source": [
        "**22. Write a Python program to train a Decision Tree Classifier using min_samples_split=5 and compare its accuracy with a default tree.**"
      ],
      "metadata": {
        "id": "PTqDuRZksHQo"
      }
    },
    {
      "cell_type": "code",
      "source": [
        "import numpy as np\n",
        "import pandas as pd\n",
        "from sklearn.datasets import load_iris\n",
        "from sklearn.tree import DecisionTreeClassifier\n",
        "from sklearn.metrics import accuracy_score\n",
        "\n",
        "iris= load_iris()\n",
        "\n",
        "x= iris.data\n",
        "y= iris.target\n",
        "feature_names= iris.feature_names\n",
        "class_names= iris.target_names\n",
        "x_train,x_test,y_train,y_test= train_test_split(x,y,test_size=.2, random_state=42)\n",
        "\n",
        "clf= DecisionTreeClassifier()\n",
        "clf.fit(x_train,y_train)\n",
        "y_pred= clf.predict(x_test)\n",
        "accuracy_normal= accuracy_score(y_pred, y_test)\n",
        "\n",
        "# spliting upto depth 3\n",
        "clf_d3= DecisionTreeClassifier(criterion='gini',random_state=42, min_samples_split=5)\n",
        "clf_d3.fit(x_train,y_train)\n",
        "y_pred_d3= clf_d3.predict(x_test)\n",
        "accuracy_d3= accuracy_score(y_pred_d3,y_test)\n",
        "\n",
        "print(f'accuracy(fully grown tree): {accuracy_normal:.2f}')\n",
        "print(f'accuracy(min_samples_split= 5): {accuracy_d3:.2f}')"
      ],
      "metadata": {
        "colab": {
          "base_uri": "https://localhost:8080/"
        },
        "id": "0VqXk0WNsVVL",
        "outputId": "ddcfa265-efa2-4cde-f011-0d3f40b3b643"
      },
      "execution_count": 100,
      "outputs": [
        {
          "output_type": "stream",
          "name": "stdout",
          "text": [
            "accuracy(fully grown tree): 1.00\n",
            "accuracy(min_samples_split= 5): 1.00\n"
          ]
        }
      ]
    },
    {
      "cell_type": "markdown",
      "source": [
        "**23. Write a Python program to apply feature scaling before training a Decision Tree Classifier and compare its accuracy with unscaled data.**"
      ],
      "metadata": {
        "id": "qBodZuiQuUSn"
      }
    },
    {
      "cell_type": "code",
      "source": [
        "import numpy as np\n",
        "import pandas as pd\n",
        "from sklearn.datasets import load_iris\n",
        "from sklearn.tree import DecisionTreeClassifier\n",
        "from sklearn.metrics import accuracy_score\n",
        "\n",
        "iris= load_iris()\n",
        "\n",
        "x= iris.data\n",
        "y= iris.target\n",
        "\n",
        "x_train,x_test,y_train,y_test= train_test_split(x,y,test_size=.2, random_state=42)\n",
        "\n",
        "clf_unscaled= DecisionTreeClassifier(criterion='gini',random_state=42)\n",
        "clf_unscaled.fit(x_train,y_train)\n",
        "y_pred_unscaled= clf_unscaled.predict(x_test)\n",
        "accuracy_unscaled= accuracy_score(y_pred_unscaled, y_test)\n",
        "\n",
        "# scalling the dataset\n",
        "from sklearn.preprocessing import StandardScaler\n",
        "scaler= StandardScaler()\n",
        "x_trained_scaled= scaler.fit_transform(x_train)\n",
        "x_test_scaled= scaler.transform(x_test)\n",
        "\n",
        "clf_scaled= DecisionTreeClassifier(criterion='gini',random_state=42)\n",
        "clf_scaled.fit(x_train,y_train)\n",
        "y_pred_scaled= clf_scaled.predict(x_test)\n",
        "accuracy_scaled= accuracy_score(y_pred_unscaled, y_test)\n",
        "\n",
        "\n",
        "print(f'accuracy(unscaled): {accuracy_unscaled:.2f}')\n",
        "print(f'accuracy(scaled): {accuracy_scaled:.2f}')"
      ],
      "metadata": {
        "colab": {
          "base_uri": "https://localhost:8080/"
        },
        "id": "LGwLDIdzybrs",
        "outputId": "9abdce64-7eb7-446b-d1a4-574c31ddae04"
      },
      "execution_count": 101,
      "outputs": [
        {
          "output_type": "stream",
          "name": "stdout",
          "text": [
            "accuracy(unscaled): 1.00\n",
            "accuracy(scaled): 1.00\n"
          ]
        }
      ]
    },
    {
      "cell_type": "markdown",
      "source": [
        "**24.  Write a Python program to train a Decision Tree Classifier using One-vs-Rest (OvR) strategy for multiclass classification.**"
      ],
      "metadata": {
        "id": "KCSwgLPpsXWb"
      }
    },
    {
      "cell_type": "code",
      "source": [
        "import numpy as np\n",
        "import pandas as pd\n",
        "from sklearn.datasets import load_iris\n",
        "from sklearn.tree import DecisionTreeClassifier\n",
        "from sklearn.multiclass import OneVsRestClassifier\n",
        "from sklearn.metrics import accuracy_score\n",
        "\n",
        "dataset= load_iris()\n",
        "\n",
        "df= pd.DataFrame(dataset.data,columns= dataset.feature_names)\n",
        "\n",
        "x= df.iloc[:,:] # independent variable\n",
        "y= dataset.target # dependent variable\n",
        "\n",
        "from sklearn.model_selection import train_test_split\n",
        "x_train, x_test, y_train, y_test= train_test_split(x,y,test_size=0.2,random_state= 42)\n",
        "\n",
        "classifier=OneVsRestClassifier(DecisionTreeClassifier())\n",
        "classifier.fit(x_train,y_train)\n",
        "\n",
        "y_pred= classifier.predict(x_test)\n",
        "\n",
        "score= accuracy_score(y_pred,y_test)\n",
        "print(score)\n"
      ],
      "metadata": {
        "colab": {
          "base_uri": "https://localhost:8080/"
        },
        "id": "gnTHE5datdyA",
        "outputId": "b368eac1-6866-4112-faff-ea0890e82401"
      },
      "execution_count": 102,
      "outputs": [
        {
          "output_type": "stream",
          "name": "stdout",
          "text": [
            "1.0\n"
          ]
        }
      ]
    },
    {
      "cell_type": "markdown",
      "source": [
        "**25.  Write a Python program to train a Decision Tree Classifier and display the feature importance scores.**"
      ],
      "metadata": {
        "id": "yfeXYOBOuWhd"
      }
    },
    {
      "cell_type": "code",
      "source": [
        "import numpy as np\n",
        "import pandas as pd\n",
        "from sklearn.datasets import load_iris\n",
        "from sklearn.tree import DecisionTreeClassifier\n",
        "\n",
        "dataset= load_iris()\n",
        "\n",
        "df= pd.DataFrame(dataset.data,columns= dataset.feature_names)\n",
        "\n",
        "x= df.iloc[:,:] # independent variable\n",
        "y= dataset.target # dependent variable\n",
        "feature_names= dataset.feature_names\n",
        "\n",
        "from sklearn.model_selection import train_test_split\n",
        "x_train, x_test, y_train, y_test= train_test_split(x,y,test_size=0.2,random_state= 42)\n",
        "\n",
        "classifier= DecisionTreeClassifier()\n",
        "classifier.fit(x_train,y_train)\n",
        "\n",
        "y_pred= classifier.predict(x_test)\n",
        "\n",
        "feature_importances= classifier.feature_importances_\n",
        "feature_df= pd.DataFrame({'feature': feature_names, 'importance':feature_importances})\n",
        "feature_df= feature_df.sort_values(by='importance')\n",
        "\n",
        "print(feature_df)"
      ],
      "metadata": {
        "colab": {
          "base_uri": "https://localhost:8080/"
        },
        "id": "JvAN3-hmuqWE",
        "outputId": "f14d39fe-e099-40c9-c7c3-d24dc5716a17"
      },
      "execution_count": 103,
      "outputs": [
        {
          "output_type": "stream",
          "name": "stdout",
          "text": [
            "             feature  importance\n",
            "0  sepal length (cm)    0.000000\n",
            "1   sepal width (cm)    0.016670\n",
            "2  petal length (cm)    0.405935\n",
            "3   petal width (cm)    0.577395\n"
          ]
        }
      ]
    },
    {
      "cell_type": "markdown",
      "source": [
        "**26. Write a Python program to train a Decision Tree Regressor with max_depth=5 and compare its performance with an unrestricted tree.**"
      ],
      "metadata": {
        "id": "P34mABhVyY1a"
      }
    },
    {
      "cell_type": "code",
      "source": [
        "import numpy as np\n",
        "import pandas as pd\n",
        "from sklearn.datasets import load_iris\n",
        "from sklearn.tree import DecisionTreeClassifier\n",
        "from sklearn.metrics import accuracy_score, classification_report\n",
        "\n",
        "iris= load_iris()\n",
        "\n",
        "x= iris.data\n",
        "y= iris.target\n",
        "feature_names= iris.feature_names\n",
        "class_names= iris.target_names\n",
        "x_train,x_test,y_train,y_test= train_test_split(x,y,test_size=.2, random_state=42)\n",
        "\n",
        "clf= DecisionTreeClassifier(random_state=42)\n",
        "clf.fit(x_train,y_train)\n",
        "y_pred= clf.predict(x_test)\n",
        "accuracy_normal= accuracy_score(y_pred, y_test)\n",
        "\n",
        "clf_d5= DecisionTreeClassifier(random_state=42, max_depth=5)\n",
        "clf_d5.fit(x_train,y_train)\n",
        "y_pred_d5= clf_d3.predict(x_test)\n",
        "accuracy_d5= accuracy_score(y_pred_d5,y_test)\n",
        "\n",
        "print(f'accuracy(fully grown tree): {accuracy_normal:.2f}')\n",
        "print(f'accuracy(depth equal to 5): {accuracy_d5:.2f}')\n"
      ],
      "metadata": {
        "colab": {
          "base_uri": "https://localhost:8080/"
        },
        "id": "G1kMMJmHvCod",
        "outputId": "e58e512d-85c6-4240-9460-b0100f2e0696"
      },
      "execution_count": 104,
      "outputs": [
        {
          "output_type": "stream",
          "name": "stdout",
          "text": [
            "accuracy(fully grown tree): 1.00\n",
            "accuracy(depth equal to 5): 1.00\n"
          ]
        }
      ]
    },
    {
      "cell_type": "markdown",
      "source": [
        "**27.  Write a Python program to train a Decision Tree Classifier, apply Cost Complexity Pruning (CCP), and visualize its effect on accuracy.**"
      ],
      "metadata": {
        "id": "VIlKUNT-xeoB"
      }
    },
    {
      "cell_type": "code",
      "source": [
        "import numpy as np\n",
        "import matplotlib.pyplot as plt\n",
        "from sklearn.datasets import load_iris\n",
        "from sklearn.tree import DecisionTreeClassifier\n",
        "from sklearn.model_selection import train_test_split\n",
        "from sklearn.metrics import accuracy_score\n",
        "\n",
        "# Load the dataset\n",
        "data = load_iris()\n",
        "X, y = data.data, data.target\n",
        "\n",
        "# Split the dataset into training and testing sets\n",
        "X_train, X_test, y_train, y_test = train_test_split(X, y, test_size=0.2, random_state=42)\n",
        "\n",
        "# Train the initial Decision Tree Classifier\n",
        "clf = DecisionTreeClassifier(random_state=42)\n",
        "clf.fit(X_train, y_train)\n",
        "\n",
        "# Compute the cost complexity pruning path\n",
        "ccp_alphas = clf.cost_complexity_pruning_path(X_train, y_train).ccp_alphas\n",
        "\n",
        "# Train trees for different values of alpha\n",
        "train_acc = []\n",
        "test_acc = []\n",
        "\n",
        "for alpha in ccp_alphas:\n",
        "    clf = DecisionTreeClassifier(random_state=42, ccp_alpha=alpha)\n",
        "    clf.fit(X_train, y_train)\n",
        "\n",
        "    train_acc.append(accuracy_score(y_train, clf.predict(X_train)))\n",
        "    test_acc.append(accuracy_score(y_test, clf.predict(X_test)))\n",
        "\n",
        "# Plot the effect of CCP alpha on accuracy\n",
        "plt.figure(figsize=(10, 6))\n",
        "plt.plot(ccp_alphas, train_acc, label=\"Train Accuracy\", marker=\"o\")\n",
        "plt.plot(ccp_alphas, test_acc, label=\"Test Accuracy\", marker=\"s\")\n",
        "plt.xlabel(\"Cost Complexity Pruning Alpha\")\n",
        "plt.ylabel(\"Accuracy\")\n",
        "plt.title(\"Effect of Cost Complexity Pruning on Decision Tree Accuracy\")\n",
        "plt.legend()\n",
        "plt.show()\n"
      ],
      "metadata": {
        "colab": {
          "base_uri": "https://localhost:8080/",
          "height": 564
        },
        "id": "dv4db6Fg7l6W",
        "outputId": "302658c6-3bcb-4317-fe95-d6e9659f5ebc"
      },
      "execution_count": 105,
      "outputs": [
        {
          "output_type": "display_data",
          "data": {
            "text/plain": [
              "<Figure size 1000x600 with 1 Axes>"
            ],
            "image/png": "[encoded data removed]"
          },
          "metadata": {}
        }
      ]
    },
    {
      "cell_type": "markdown",
      "source": [
        "**28. Write a Python program to train a Decision Tree Classifier and evaluate its performance using Precision, Recall, and F1-Score.**"
      ],
      "metadata": {
        "id": "n5xxe7MZ86_8"
      }
    },
    {
      "cell_type": "code",
      "source": [
        "import numpy as np\n",
        "import pandas as pd\n",
        "from sklearn.datasets import load_iris\n",
        "from sklearn.model_selection import train_test_split\n",
        "from sklearn.tree import DecisionTreeClassifier\n",
        "from sklearn.metrics import accuracy_score, precision_score,recall_score,f1_score\n",
        "\n",
        "dataset= load_iris()\n",
        "x= dataset.data\n",
        "y= dataset.target\n",
        "\n",
        "x_train,x_test,y_train,y_test= train_test_split(x,y,test_size= 0.20,random_state=42)\n",
        "\n",
        "clf= DecisionTreeClassifier(random_state=42)\n",
        "clf.fit(x_train,y_train)\n",
        "\n",
        "y_pred= clf.predict(x_test)\n",
        "\n",
        "print('accuracy:',accuracy_score(y_pred,y_test))\n",
        "print('precision: ', precision_score(y_pred,y_test,average='macro'))\n",
        "print('recall: ',recall_score(y_pred,y_test,average='macro'))\n",
        "print('f1_score: ', f1_score(y_pred,y_test,average= 'macro'))"
      ],
      "metadata": {
        "colab": {
          "base_uri": "https://localhost:8080/"
        },
        "id": "uAg12QwN-VLs",
        "outputId": "28f1749a-bcc1-478d-d1ae-7257577a1065"
      },
      "execution_count": 106,
      "outputs": [
        {
          "output_type": "stream",
          "name": "stdout",
          "text": [
            "accuracy: 1.0\n",
            "precision:  1.0\n",
            "recall:  1.0\n",
            "f1_score:  1.0\n"
          ]
        }
      ]
    },
    {
      "cell_type": "markdown",
      "source": [
        "**29. Write a Python program to train a Decision Tree Classifier and visualize the confusion matrix using seaborn?**"
      ],
      "metadata": {
        "id": "UM04aA9LlDL8"
      }
    },
    {
      "cell_type": "code",
      "source": [
        "import numpy as np\n",
        "import pandas as pd\n",
        "import seaborn as sns\n",
        "from sklearn.datasets import load_iris\n",
        "from sklearn.model_selection import train_test_split\n",
        "from sklearn.tree import DecisionTreeClassifier\n",
        "from sklearn.metrics import confusion_matrix, classification_report\n",
        "\n",
        "dataset= load_iris()\n",
        "x= dataset.data\n",
        "y= dataset.target\n",
        "\n",
        "x_train,x_test,y_train,y_test= train_test_split(x,y,test_size= 0.20,random_state=42)\n",
        "\n",
        "clf= DecisionTreeClassifier(random_state=42)\n",
        "clf.fit(x_train,y_train)\n",
        "\n",
        "y_pred= clf.predict(x_test)\n",
        "\n",
        "conf_matrix= confusion_matrix(y_pred,y_test)\n",
        "classif_report= classification_report(y_pred,y_test)\n",
        "print('Classification Report:\\n', classif_report)\n",
        "\n",
        "plt.figure(figsize=(5,3))\n",
        "sns.heatmap(conf_matrix, annot=True)\n",
        "plt.xlabel('Predicted label')\n",
        "plt.ylabel('True label')\n",
        "plt.title('Confusion metrix for Decision Tree Classifier')\n",
        "plt.show()"
      ],
      "metadata": {
        "colab": {
          "base_uri": "https://localhost:8080/",
          "height": 530
        },
        "id": "6MAJ6YqomrEf",
        "outputId": "b081ec71-15be-47b6-b80a-0735159acb51"
      },
      "execution_count": 107,
      "outputs": [
        {
          "output_type": "stream",
          "name": "stdout",
          "text": [
            "Classification Report:\n",
            "               precision    recall  f1-score   support\n",
            "\n",
            "           0       1.00      1.00      1.00        10\n",
            "           1       1.00      1.00      1.00         9\n",
            "           2       1.00      1.00      1.00        11\n",
            "\n",
            "    accuracy                           1.00        30\n",
            "   macro avg       1.00      1.00      1.00        30\n",
            "weighted avg       1.00      1.00      1.00        30\n",
            "\n"
          ]
        },
        {
          "output_type": "display_data",
          "data": {
            "text/plain": [
              "<Figure size 500x300 with 2 Axes>"
            ],
            "image/png": "[encoded data removed]"
          },
          "metadata": {}
        }
      ]
    },
    {
      "cell_type": "markdown",
      "source": [
        "**30. Write a Python program to train a Decision Tree Classifier and use GridSearchCV to find the optimal values for max_depth and min_samples_split.**"
      ],
      "metadata": {
        "id": "2HGd1ppLswOp"
      }
    },
    {
      "cell_type": "code",
      "source": [
        "import numpy as np\n",
        "import pandas as pd\n",
        "import seaborn as sns\n",
        "from sklearn.datasets import load_iris\n",
        "from sklearn.model_selection import train_test_split\n",
        "from sklearn.tree import DecisionTreeClassifier\n",
        "from sklearn.metrics import accuracy_score\n",
        "from sklearn.model_selection import GridSearchCV\n",
        "\n",
        "dataset= load_iris()\n",
        "x= dataset.data\n",
        "y= dataset.target\n",
        "\n",
        "x_train,x_test,y_train,y_test= train_test_split(x,y,test_size= 0.20,random_state=42)\n",
        "\n",
        "parameter={\n",
        "\n",
        "    'max_depth':[1,2,3,4,5],\n",
        "    'min_samples_split':[2,4,5]\n",
        "}\n",
        "\n",
        "clf= DecisionTreeClassifier(random_state=42)\n",
        "\n",
        "grid_search= GridSearchCV(clf,param_grid= parameter,cv= 5, scoring= 'accuracy', n_jobs=-1)\n",
        "grid_search.fit(x_train,y_train)\n",
        "\n",
        "print('best parameters: ',grid_search.best_params_)\n",
        "\n",
        "y_pred= grid_search.predict(x_test)\n",
        "\n",
        "print('accuracy of model: ', accuracy_score(y_pred,y_test))"
      ],
      "metadata": {
        "colab": {
          "base_uri": "https://localhost:8080/"
        },
        "id": "tgDycoEgu3NX",
        "outputId": "9bb0d04f-11cf-4abf-d7cb-5bf9d0a5b8cc"
      },
      "execution_count": 108,
      "outputs": [
        {
          "output_type": "stream",
          "name": "stdout",
          "text": [
            "best parameters:  {'max_depth': 4, 'min_samples_split': 2}\n",
            "accuracy of model:  1.0\n"
          ]
        }
      ]
    }
  ]
}